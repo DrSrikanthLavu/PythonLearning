{
 "cells": [
  {
   "cell_type": "markdown",
   "id": "d9541b31",
   "metadata": {},
   "source": [
    "# 0. Useful functions"
   ]
  },
  {
   "cell_type": "code",
   "execution_count": null,
   "id": "d499c6e1",
   "metadata": {},
   "outputs": [],
   "source": [
    "# to know type of an object/variable/item\n",
    "type()"
   ]
  },
  {
   "cell_type": "code",
   "execution_count": null,
   "id": "9913618d",
   "metadata": {},
   "outputs": [],
   "source": [
    "bool(), converts given value to a boolean value"
   ]
  },
  {
   "cell_type": "code",
   "execution_count": null,
   "id": "02bd0f9e",
   "metadata": {},
   "outputs": [],
   "source": [
    "id(), gives memory location of a variable"
   ]
  },
  {
   "cell_type": "markdown",
   "id": "367eead9",
   "metadata": {},
   "source": [
    "# 1. Python Data types/ Data structures / data containter"
   ]
  },
  {
   "cell_type": "markdown",
   "id": "6f855505",
   "metadata": {},
   "source": [
    "## 1.1 Numbers"
   ]
  },
  {
   "cell_type": "markdown",
   "id": "4b6dcdf1",
   "metadata": {},
   "source": [
    "- Integers\n",
    "- Floating point numbers\n",
    "- Complex numbers"
   ]
  },
  {
   "cell_type": "markdown",
   "id": "3d740a72",
   "metadata": {},
   "source": [
    "### 1.1.1 Integers"
   ]
  },
  {
   "cell_type": "code",
   "execution_count": 15,
   "id": "106eae21",
   "metadata": {},
   "outputs": [],
   "source": [
    "#variable declaration\n",
    "# first student\n",
    "a=60"
   ]
  },
  {
   "cell_type": "code",
   "execution_count": 16,
   "id": "55507d47",
   "metadata": {},
   "outputs": [],
   "source": [
    "b=70"
   ]
  },
  {
   "cell_type": "code",
   "execution_count": 17,
   "id": "3175d63f",
   "metadata": {},
   "outputs": [],
   "source": [
    "c = a+b"
   ]
  },
  {
   "cell_type": "code",
   "execution_count": 18,
   "id": "2c5966f9",
   "metadata": {},
   "outputs": [
    {
     "name": "stdout",
     "output_type": "stream",
     "text": [
      "130\n"
     ]
    }
   ],
   "source": [
    "print(c)"
   ]
  },
  {
   "cell_type": "code",
   "execution_count": null,
   "id": "d6cfc0a4",
   "metadata": {},
   "outputs": [],
   "source": [
    "#second student"
   ]
  },
  {
   "cell_type": "code",
   "execution_count": 19,
   "id": "c0528d29",
   "metadata": {},
   "outputs": [
    {
     "name": "stdout",
     "output_type": "stream",
     "text": [
      "140\n"
     ]
    }
   ],
   "source": [
    "a = 68\n",
    "b= 72\n"
   ]
  },
  {
   "cell_type": "code",
   "execution_count": null,
   "id": "d360b4a9",
   "metadata": {},
   "outputs": [],
   "source": [
    "c= a+b\n",
    "print(c)"
   ]
  },
  {
   "cell_type": "markdown",
   "id": "9aebd342",
   "metadata": {},
   "source": [
    "Here a, b and c are called variables, because their values can change.\n",
    "If the values doesn't change, they are called constants."
   ]
  },
  {
   "cell_type": "markdown",
   "id": "476f4230",
   "metadata": {},
   "source": [
    "### 1.1.2 Floating point numbers"
   ]
  },
  {
   "cell_type": "code",
   "execution_count": 22,
   "id": "f3558c2f",
   "metadata": {},
   "outputs": [
    {
     "name": "stdout",
     "output_type": "stream",
     "text": [
      "33.55\n"
     ]
    }
   ],
   "source": [
    "# variable declaration- floating point numbers\n",
    "d= 10.1\n",
    "e= 23.45 \n",
    "f = d+e\n",
    "print(f)"
   ]
  },
  {
   "cell_type": "code",
   "execution_count": 28,
   "id": "42ff0d11",
   "metadata": {},
   "outputs": [],
   "source": [
    "h = 10\n",
    "j = 10.0\n",
    "k = h+j"
   ]
  },
  {
   "cell_type": "code",
   "execution_count": 25,
   "id": "1a8f0029",
   "metadata": {},
   "outputs": [
    {
     "data": {
      "text/plain": [
       "int"
      ]
     },
     "execution_count": 25,
     "metadata": {},
     "output_type": "execute_result"
    }
   ],
   "source": [
    "type(h)"
   ]
  },
  {
   "cell_type": "code",
   "execution_count": 29,
   "id": "c758262a",
   "metadata": {},
   "outputs": [
    {
     "data": {
      "text/plain": [
       "float"
      ]
     },
     "execution_count": 29,
     "metadata": {},
     "output_type": "execute_result"
    }
   ],
   "source": [
    "type(j)"
   ]
  },
  {
   "cell_type": "code",
   "execution_count": 30,
   "id": "1bce531d",
   "metadata": {},
   "outputs": [
    {
     "data": {
      "text/plain": [
       "float"
      ]
     },
     "execution_count": 30,
     "metadata": {},
     "output_type": "execute_result"
    }
   ],
   "source": [
    "type(k)"
   ]
  },
  {
   "cell_type": "code",
   "execution_count": 31,
   "id": "a63b460b",
   "metadata": {},
   "outputs": [],
   "source": [
    "h=10.0"
   ]
  },
  {
   "cell_type": "code",
   "execution_count": 32,
   "id": "896cabde",
   "metadata": {},
   "outputs": [
    {
     "data": {
      "text/plain": [
       "float"
      ]
     },
     "execution_count": 32,
     "metadata": {},
     "output_type": "execute_result"
    }
   ],
   "source": [
    "type(h)"
   ]
  },
  {
   "cell_type": "markdown",
   "id": "773a97dd",
   "metadata": {},
   "source": [
    "## 1.2 boolean"
   ]
  },
  {
   "cell_type": "markdown",
   "id": "ec413625",
   "metadata": {},
   "source": [
    "Has two values\n",
    "- True (any non zero)\n",
    "- False (0)"
   ]
  },
  {
   "cell_type": "code",
   "execution_count": 34,
   "id": "b2b8db9d",
   "metadata": {},
   "outputs": [],
   "source": [
    "x = True"
   ]
  },
  {
   "cell_type": "code",
   "execution_count": 35,
   "id": "aee66ff5",
   "metadata": {},
   "outputs": [
    {
     "data": {
      "text/plain": [
       "bool"
      ]
     },
     "execution_count": 35,
     "metadata": {},
     "output_type": "execute_result"
    }
   ],
   "source": [
    "type(x)"
   ]
  },
  {
   "cell_type": "code",
   "execution_count": 36,
   "id": "6b28f769",
   "metadata": {},
   "outputs": [],
   "source": [
    "y= False"
   ]
  },
  {
   "cell_type": "code",
   "execution_count": 37,
   "id": "12644a7b",
   "metadata": {},
   "outputs": [
    {
     "data": {
      "text/plain": [
       "bool"
      ]
     },
     "execution_count": 37,
     "metadata": {},
     "output_type": "execute_result"
    }
   ],
   "source": [
    "type(y)"
   ]
  },
  {
   "cell_type": "code",
   "execution_count": 38,
   "id": "a2f0060e",
   "metadata": {},
   "outputs": [],
   "source": [
    "z = bool(1)"
   ]
  },
  {
   "cell_type": "code",
   "execution_count": 39,
   "id": "4bef12c8",
   "metadata": {},
   "outputs": [
    {
     "name": "stdout",
     "output_type": "stream",
     "text": [
      "True\n"
     ]
    }
   ],
   "source": [
    "print(z)"
   ]
  },
  {
   "cell_type": "code",
   "execution_count": 43,
   "id": "cd359c2d",
   "metadata": {},
   "outputs": [],
   "source": [
    "z1 = bool(-1)"
   ]
  },
  {
   "cell_type": "code",
   "execution_count": 44,
   "id": "5e289001",
   "metadata": {},
   "outputs": [
    {
     "name": "stdout",
     "output_type": "stream",
     "text": [
      "True\n"
     ]
    }
   ],
   "source": [
    "print(z1)"
   ]
  },
  {
   "cell_type": "code",
   "execution_count": 45,
   "id": "4ec80bba",
   "metadata": {},
   "outputs": [
    {
     "name": "stdout",
     "output_type": "stream",
     "text": [
      "False\n"
     ]
    }
   ],
   "source": [
    "z2= bool(0)\n",
    "print(z2)"
   ]
  },
  {
   "cell_type": "markdown",
   "id": "2763e41b",
   "metadata": {},
   "source": [
    "## 1.3 Mutability in Python"
   ]
  },
  {
   "cell_type": "code",
   "execution_count": null,
   "id": "d2d17a11",
   "metadata": {},
   "outputs": [],
   "source": [
    "An object is mutable if we can change data it holds"
   ]
  },
  {
   "cell_type": "code",
   "execution_count": 46,
   "id": "90864800",
   "metadata": {},
   "outputs": [],
   "source": [
    "a = 10"
   ]
  },
  {
   "cell_type": "code",
   "execution_count": 47,
   "id": "de99475c",
   "metadata": {},
   "outputs": [
    {
     "data": {
      "text/plain": [
       "4376557168"
      ]
     },
     "execution_count": 47,
     "metadata": {},
     "output_type": "execute_result"
    }
   ],
   "source": [
    "id(a)"
   ]
  },
  {
   "cell_type": "code",
   "execution_count": 48,
   "id": "e0c35cbb",
   "metadata": {},
   "outputs": [],
   "source": [
    "a = 20"
   ]
  },
  {
   "cell_type": "code",
   "execution_count": 49,
   "id": "9120812c",
   "metadata": {},
   "outputs": [
    {
     "data": {
      "text/plain": [
       "4376557488"
      ]
     },
     "execution_count": 49,
     "metadata": {},
     "output_type": "execute_result"
    }
   ],
   "source": [
    "id(a)"
   ]
  },
  {
   "cell_type": "code",
   "execution_count": null,
   "id": "b23553f3",
   "metadata": {},
   "outputs": [],
   "source": [
    "Immutable"
   ]
  },
  {
   "cell_type": "markdown",
   "id": "94fd64e0",
   "metadata": {},
   "source": [
    "## 1.3.1 Immutable objects"
   ]
  },
  {
   "cell_type": "code",
   "execution_count": null,
   "id": "37534728",
   "metadata": {},
   "outputs": [],
   "source": [
    "- All numbers(integers, floats, complex numbers)\n",
    "- Booleans\n",
    "- strings\n",
    "- tuples"
   ]
  },
  {
   "cell_type": "markdown",
   "id": "383756c1",
   "metadata": {},
   "source": [
    "## 1.3.2 Mutable objects"
   ]
  },
  {
   "cell_type": "code",
   "execution_count": null,
   "id": "7537981a",
   "metadata": {},
   "outputs": [],
   "source": [
    "- Lists\n",
    "- Dictionaries\n",
    "- Sets"
   ]
  },
  {
   "cell_type": "code",
   "execution_count": 78,
   "id": "b444132f",
   "metadata": {
    "scrolled": true
   },
   "outputs": [
    {
     "name": "stdout",
     "output_type": "stream",
     "text": [
      "True 4376176560\n"
     ]
    }
   ],
   "source": [
    "a = True\n",
    "print(a,id(a))"
   ]
  },
  {
   "cell_type": "markdown",
   "id": "ff591032",
   "metadata": {},
   "source": [
    "## 1.3.3 immutability implications"
   ]
  },
  {
   "cell_type": "code",
   "execution_count": 80,
   "id": "bc432d5b",
   "metadata": {},
   "outputs": [
    {
     "name": "stdout",
     "output_type": "stream",
     "text": [
      "True 4376176560\n"
     ]
    }
   ],
   "source": [
    "b=a\n",
    "print(b, id(b))"
   ]
  },
  {
   "cell_type": "code",
   "execution_count": 81,
   "id": "cdfabd92",
   "metadata": {},
   "outputs": [
    {
     "name": "stdout",
     "output_type": "stream",
     "text": [
      "False 4376177504\n"
     ]
    }
   ],
   "source": [
    "a= False\n",
    "print(a,id(a))"
   ]
  },
  {
   "cell_type": "code",
   "execution_count": 82,
   "id": "37e4d0bb",
   "metadata": {},
   "outputs": [
    {
     "name": "stdout",
     "output_type": "stream",
     "text": [
      "True 4376176560\n"
     ]
    }
   ],
   "source": [
    "print(b, id(b))"
   ]
  },
  {
   "cell_type": "markdown",
   "id": "de82c2fd",
   "metadata": {},
   "source": [
    "## 1.4 Python built-in constants"
   ]
  },
  {
   "cell_type": "code",
   "execution_count": null,
   "id": "5aa7653b",
   "metadata": {},
   "outputs": [],
   "source": [
    "# built-in constants\n",
    "- True\n",
    "- False\n",
    "- None"
   ]
  },
  {
   "cell_type": "code",
   "execution_count": 51,
   "id": "e4c0dc6e",
   "metadata": {},
   "outputs": [],
   "source": [
    "A = True"
   ]
  },
  {
   "cell_type": "code",
   "execution_count": 52,
   "id": "251c088c",
   "metadata": {},
   "outputs": [
    {
     "name": "stdout",
     "output_type": "stream",
     "text": [
      "True\n"
     ]
    }
   ],
   "source": [
    "print(A)"
   ]
  },
  {
   "cell_type": "code",
   "execution_count": 53,
   "id": "67b472dc",
   "metadata": {},
   "outputs": [
    {
     "name": "stdout",
     "output_type": "stream",
     "text": [
      "24\n"
     ]
    }
   ],
   "source": [
    "ab = 24\n",
    "print(ab)"
   ]
  },
  {
   "cell_type": "code",
   "execution_count": 54,
   "id": "8fbcf26a",
   "metadata": {},
   "outputs": [],
   "source": [
    "B = False"
   ]
  },
  {
   "cell_type": "code",
   "execution_count": 55,
   "id": "9c4c2749",
   "metadata": {},
   "outputs": [
    {
     "name": "stdout",
     "output_type": "stream",
     "text": [
      "False\n"
     ]
    }
   ],
   "source": [
    "print(B)"
   ]
  },
  {
   "cell_type": "code",
   "execution_count": 56,
   "id": "87b9d618",
   "metadata": {},
   "outputs": [],
   "source": [
    "C = None"
   ]
  },
  {
   "cell_type": "code",
   "execution_count": 57,
   "id": "c1519ff7",
   "metadata": {},
   "outputs": [
    {
     "name": "stdout",
     "output_type": "stream",
     "text": [
      "None\n"
     ]
    }
   ],
   "source": [
    "print(C)"
   ]
  },
  {
   "cell_type": "code",
   "execution_count": 58,
   "id": "b87083a0",
   "metadata": {},
   "outputs": [
    {
     "data": {
      "text/plain": [
       "NoneType"
      ]
     },
     "execution_count": 58,
     "metadata": {},
     "output_type": "execute_result"
    }
   ],
   "source": [
    "type(C)"
   ]
  },
  {
   "cell_type": "code",
   "execution_count": 59,
   "id": "38c0a202",
   "metadata": {},
   "outputs": [
    {
     "data": {
      "text/plain": [
       "(bool, bool, NoneType)"
      ]
     },
     "execution_count": 59,
     "metadata": {},
     "output_type": "execute_result"
    }
   ],
   "source": [
    "type(A), type(B), type(C)"
   ]
  },
  {
   "cell_type": "markdown",
   "id": "60bf5656",
   "metadata": {},
   "source": [
    "## 1.5 Variables in Python"
   ]
  },
  {
   "cell_type": "code",
   "execution_count": 60,
   "id": "35c1585f",
   "metadata": {},
   "outputs": [],
   "source": [
    "#typical variable declation\n",
    "variable_name = value"
   ]
  },
  {
   "cell_type": "markdown",
   "id": "aa70d105",
   "metadata": {},
   "source": [
    "variable naming convention\n",
    "- 1.variable names are case sensitive\n",
    "- 2.variable name can not start with special character except '_'\n",
    "- 3.variable name can not start with number\n",
    "- 4.can not use reserved words/key words"
   ]
  },
  {
   "cell_type": "code",
   "execution_count": 62,
   "id": "e2df7b30",
   "metadata": {},
   "outputs": [],
   "source": [
    "var1= 20"
   ]
  },
  {
   "cell_type": "code",
   "execution_count": 63,
   "id": "e5032306",
   "metadata": {},
   "outputs": [
    {
     "name": "stdout",
     "output_type": "stream",
     "text": [
      "20\n"
     ]
    }
   ],
   "source": [
    "print(var1)"
   ]
  },
  {
   "cell_type": "code",
   "execution_count": 64,
   "id": "f7cf833a",
   "metadata": {},
   "outputs": [
    {
     "ename": "NameError",
     "evalue": "name 'Var1' is not defined",
     "output_type": "error",
     "traceback": [
      "\u001b[0;31m---------------------------------------------------------------------------\u001b[0m",
      "\u001b[0;31mNameError\u001b[0m                                 Traceback (most recent call last)",
      "\u001b[0;32m<ipython-input-64-b4eeb1fff8dc>\u001b[0m in \u001b[0;36m<module>\u001b[0;34m\u001b[0m\n\u001b[0;32m----> 1\u001b[0;31m \u001b[0mprint\u001b[0m\u001b[0;34m(\u001b[0m\u001b[0mVar1\u001b[0m\u001b[0;34m)\u001b[0m\u001b[0;34m\u001b[0m\u001b[0m\n\u001b[0m",
      "\u001b[0;31mNameError\u001b[0m: name 'Var1' is not defined"
     ]
    }
   ],
   "source": [
    "print(Var1)"
   ]
  },
  {
   "cell_type": "code",
   "execution_count": 65,
   "id": "2b3c1124",
   "metadata": {},
   "outputs": [
    {
     "name": "stdout",
     "output_type": "stream",
     "text": [
      "20\n"
     ]
    }
   ],
   "source": [
    "print(var1)"
   ]
  },
  {
   "cell_type": "code",
   "execution_count": 66,
   "id": "a08c5503",
   "metadata": {},
   "outputs": [
    {
     "ename": "NameError",
     "evalue": "name 'vAr1' is not defined",
     "output_type": "error",
     "traceback": [
      "\u001b[0;31m---------------------------------------------------------------------------\u001b[0m",
      "\u001b[0;31mNameError\u001b[0m                                 Traceback (most recent call last)",
      "\u001b[0;32m<ipython-input-66-45372c09dd0b>\u001b[0m in \u001b[0;36m<module>\u001b[0;34m\u001b[0m\n\u001b[0;32m----> 1\u001b[0;31m \u001b[0mprint\u001b[0m\u001b[0;34m(\u001b[0m\u001b[0mvAr1\u001b[0m\u001b[0;34m)\u001b[0m\u001b[0;34m\u001b[0m\u001b[0m\n\u001b[0m",
      "\u001b[0;31mNameError\u001b[0m: name 'vAr1' is not defined"
     ]
    }
   ],
   "source": [
    "print(vAr1)"
   ]
  },
  {
   "cell_type": "code",
   "execution_count": 67,
   "id": "50e25561",
   "metadata": {},
   "outputs": [
    {
     "name": "stdout",
     "output_type": "stream",
     "text": [
      "30\n"
     ]
    }
   ],
   "source": [
    "_var1 = 30\n",
    "print(_var1)"
   ]
  },
  {
   "cell_type": "code",
   "execution_count": 68,
   "id": "78af493c",
   "metadata": {},
   "outputs": [
    {
     "ename": "SyntaxError",
     "evalue": "invalid syntax (<ipython-input-68-47ab53800f46>, line 1)",
     "output_type": "error",
     "traceback": [
      "\u001b[0;36m  File \u001b[0;32m\"<ipython-input-68-47ab53800f46>\"\u001b[0;36m, line \u001b[0;32m1\u001b[0m\n\u001b[0;31m    1var1 = 40\u001b[0m\n\u001b[0m        ^\u001b[0m\n\u001b[0;31mSyntaxError\u001b[0m\u001b[0;31m:\u001b[0m invalid syntax\n"
     ]
    }
   ],
   "source": [
    "1var1 = 40"
   ]
  },
  {
   "cell_type": "code",
   "execution_count": 69,
   "id": "6a0495dd",
   "metadata": {},
   "outputs": [
    {
     "name": "stdout",
     "output_type": "stream",
     "text": [
      "USA\n"
     ]
    }
   ],
   "source": [
    "true = 'USA'\n",
    "print(true)"
   ]
  },
  {
   "cell_type": "code",
   "execution_count": 70,
   "id": "ba27c981",
   "metadata": {},
   "outputs": [
    {
     "ename": "SyntaxError",
     "evalue": "can't assign to keyword (<ipython-input-70-e5e78b6b4d94>, line 1)",
     "output_type": "error",
     "traceback": [
      "\u001b[0;36m  File \u001b[0;32m\"<ipython-input-70-e5e78b6b4d94>\"\u001b[0;36m, line \u001b[0;32m1\u001b[0m\n\u001b[0;31m    True = 'USA'\u001b[0m\n\u001b[0m                ^\u001b[0m\n\u001b[0;31mSyntaxError\u001b[0m\u001b[0;31m:\u001b[0m can't assign to keyword\n"
     ]
    }
   ],
   "source": [
    "True = 'USA'"
   ]
  },
  {
   "cell_type": "code",
   "execution_count": 71,
   "id": "b38804e3",
   "metadata": {},
   "outputs": [],
   "source": [
    "Var1 = 24"
   ]
  },
  {
   "cell_type": "code",
   "execution_count": 72,
   "id": "92a92070",
   "metadata": {},
   "outputs": [
    {
     "name": "stdout",
     "output_type": "stream",
     "text": [
      "24\n"
     ]
    }
   ],
   "source": [
    "print(Var1)"
   ]
  },
  {
   "cell_type": "code",
   "execution_count": null,
   "id": "874f71cf",
   "metadata": {},
   "outputs": [],
   "source": [
    "var1 "
   ]
  },
  {
   "cell_type": "code",
   "execution_count": 73,
   "id": "f37e1b84",
   "metadata": {},
   "outputs": [
    {
     "data": {
      "text/plain": [
       "True"
      ]
     },
     "execution_count": 73,
     "metadata": {},
     "output_type": "execute_result"
    }
   ],
   "source": [
    "x = True\n",
    "x"
   ]
  },
  {
   "cell_type": "code",
   "execution_count": 74,
   "id": "b028d74f",
   "metadata": {},
   "outputs": [
    {
     "data": {
      "text/plain": [
       "bool"
      ]
     },
     "execution_count": 74,
     "metadata": {},
     "output_type": "execute_result"
    }
   ],
   "source": [
    "type(x)"
   ]
  },
  {
   "cell_type": "code",
   "execution_count": 75,
   "id": "217ae833",
   "metadata": {},
   "outputs": [
    {
     "data": {
      "text/plain": [
       "4376176560"
      ]
     },
     "execution_count": 75,
     "metadata": {},
     "output_type": "execute_result"
    }
   ],
   "source": [
    "id(x)"
   ]
  },
  {
   "cell_type": "code",
   "execution_count": 76,
   "id": "1eb0eb20",
   "metadata": {},
   "outputs": [
    {
     "name": "stdout",
     "output_type": "stream",
     "text": [
      "True\n"
     ]
    }
   ],
   "source": [
    "y= 'True'\n",
    "print(y)"
   ]
  },
  {
   "cell_type": "code",
   "execution_count": 77,
   "id": "cfb0a638",
   "metadata": {},
   "outputs": [
    {
     "data": {
      "text/plain": [
       "str"
      ]
     },
     "execution_count": 77,
     "metadata": {},
     "output_type": "execute_result"
    }
   ],
   "source": [
    "type(y)"
   ]
  },
  {
   "cell_type": "markdown",
   "id": "47638fa2",
   "metadata": {},
   "source": [
    "## 1.6 Python operators"
   ]
  },
  {
   "cell_type": "code",
   "execution_count": null,
   "id": "e5d7dd8c",
   "metadata": {},
   "outputs": [],
   "source": [
    "# Addition: +\n",
    "# Substraction : -\n",
    "# Multiplication : *\n",
    "# Division : /\n",
    "# floored division(integer division): //\n",
    "# modulus : % (gives you remainder)"
   ]
  },
  {
   "cell_type": "code",
   "execution_count": null,
   "id": "063f5679",
   "metadata": {},
   "outputs": [],
   "source": [
    "2 + 5\n",
    "# 2, 5 are called operands\n",
    "# + is an operator"
   ]
  },
  {
   "cell_type": "code",
   "execution_count": 83,
   "id": "ac3ebc90",
   "metadata": {},
   "outputs": [
    {
     "data": {
      "text/plain": [
       "7"
      ]
     },
     "execution_count": 83,
     "metadata": {},
     "output_type": "execute_result"
    }
   ],
   "source": [
    "5+2"
   ]
  },
  {
   "cell_type": "code",
   "execution_count": 84,
   "id": "d40cf124",
   "metadata": {},
   "outputs": [
    {
     "data": {
      "text/plain": [
       "3"
      ]
     },
     "execution_count": 84,
     "metadata": {},
     "output_type": "execute_result"
    }
   ],
   "source": [
    "5-2"
   ]
  },
  {
   "cell_type": "code",
   "execution_count": 85,
   "id": "79ae3417",
   "metadata": {},
   "outputs": [
    {
     "data": {
      "text/plain": [
       "1.6666666666666667"
      ]
     },
     "execution_count": 85,
     "metadata": {},
     "output_type": "execute_result"
    }
   ],
   "source": [
    "5/3"
   ]
  },
  {
   "cell_type": "code",
   "execution_count": 86,
   "id": "81870d14",
   "metadata": {},
   "outputs": [
    {
     "data": {
      "text/plain": [
       "1"
      ]
     },
     "execution_count": 86,
     "metadata": {},
     "output_type": "execute_result"
    }
   ],
   "source": [
    "5//3"
   ]
  },
  {
   "cell_type": "code",
   "execution_count": 87,
   "id": "d2585d05",
   "metadata": {},
   "outputs": [
    {
     "data": {
      "text/plain": [
       "2"
      ]
     },
     "execution_count": 87,
     "metadata": {},
     "output_type": "execute_result"
    }
   ],
   "source": [
    "5%3"
   ]
  },
  {
   "cell_type": "code",
   "execution_count": 88,
   "id": "66485ec9",
   "metadata": {},
   "outputs": [
    {
     "data": {
      "text/plain": [
       "'Srikanth'"
      ]
     },
     "execution_count": 88,
     "metadata": {},
     "output_type": "execute_result"
    }
   ],
   "source": [
    "x = 'Srikanth'\n",
    "x"
   ]
  },
  {
   "cell_type": "code",
   "execution_count": 89,
   "id": "a98f4904",
   "metadata": {},
   "outputs": [
    {
     "data": {
      "text/plain": [
       "'SrikanthSrikanthSrikanthSrikanthSrikanthSrikanthSrikanthSrikanthSrikanthSrikanth'"
      ]
     },
     "execution_count": 89,
     "metadata": {},
     "output_type": "execute_result"
    }
   ],
   "source": [
    "x*10"
   ]
  },
  {
   "cell_type": "code",
   "execution_count": 90,
   "id": "66af408d",
   "metadata": {},
   "outputs": [
    {
     "ename": "TypeError",
     "evalue": "must be str, not int",
     "output_type": "error",
     "traceback": [
      "\u001b[0;31m---------------------------------------------------------------------------\u001b[0m",
      "\u001b[0;31mTypeError\u001b[0m                                 Traceback (most recent call last)",
      "\u001b[0;32m<ipython-input-90-56c530d9a4bc>\u001b[0m in \u001b[0;36m<module>\u001b[0;34m\u001b[0m\n\u001b[0;32m----> 1\u001b[0;31m \u001b[0mx\u001b[0m\u001b[0;34m+\u001b[0m\u001b[0;36m2\u001b[0m\u001b[0;34m\u001b[0m\u001b[0m\n\u001b[0m",
      "\u001b[0;31mTypeError\u001b[0m: must be str, not int"
     ]
    }
   ],
   "source": [
    "x+2"
   ]
  },
  {
   "cell_type": "code",
   "execution_count": 91,
   "id": "9e54faa7",
   "metadata": {},
   "outputs": [
    {
     "data": {
      "text/plain": [
       "'Srikanthlavu'"
      ]
     },
     "execution_count": 91,
     "metadata": {},
     "output_type": "execute_result"
    }
   ],
   "source": [
    "x= 'Srikanth'\n",
    "y= 'lavu'\n",
    "x+y"
   ]
  },
  {
   "cell_type": "markdown",
   "id": "056dec90",
   "metadata": {},
   "source": [
    "## 1.7 Python Conditional/comparison operators"
   ]
  },
  {
   "cell_type": "code",
   "execution_count": null,
   "id": "3c6d9dcf",
   "metadata": {},
   "outputs": [],
   "source": [
    "# less than: <\n",
    "# less than or equal to: <=\n",
    "# equal to: ==\n",
    "# greater than: >\n",
    "# greater than or equal to: >=\n",
    "# not equal to !="
   ]
  },
  {
   "cell_type": "code",
   "execution_count": 93,
   "id": "9bd74136",
   "metadata": {},
   "outputs": [
    {
     "data": {
      "text/plain": [
       "True"
      ]
     },
     "execution_count": 93,
     "metadata": {},
     "output_type": "execute_result"
    }
   ],
   "source": [
    "3 < 5"
   ]
  },
  {
   "cell_type": "code",
   "execution_count": 94,
   "id": "a4977c81",
   "metadata": {},
   "outputs": [],
   "source": [
    " x = 3 < 5"
   ]
  },
  {
   "cell_type": "code",
   "execution_count": 95,
   "id": "8dc5ef21",
   "metadata": {},
   "outputs": [
    {
     "data": {
      "text/plain": [
       "True"
      ]
     },
     "execution_count": 95,
     "metadata": {},
     "output_type": "execute_result"
    }
   ],
   "source": [
    "x"
   ]
  },
  {
   "cell_type": "code",
   "execution_count": 96,
   "id": "f1247f48",
   "metadata": {},
   "outputs": [
    {
     "data": {
      "text/plain": [
       "True"
      ]
     },
     "execution_count": 96,
     "metadata": {},
     "output_type": "execute_result"
    }
   ],
   "source": [
    "3 <= 5"
   ]
  },
  {
   "cell_type": "code",
   "execution_count": 98,
   "id": "0f8e2fb0",
   "metadata": {},
   "outputs": [
    {
     "data": {
      "text/plain": [
       "False"
      ]
     },
     "execution_count": 98,
     "metadata": {},
     "output_type": "execute_result"
    }
   ],
   "source": [
    "3 == 5"
   ]
  },
  {
   "cell_type": "code",
   "execution_count": 99,
   "id": "1d4ce7ef",
   "metadata": {},
   "outputs": [],
   "source": [
    "x = 2"
   ]
  },
  {
   "cell_type": "code",
   "execution_count": 102,
   "id": "3d3eb0ff",
   "metadata": {},
   "outputs": [],
   "source": [
    "y=3"
   ]
  },
  {
   "cell_type": "code",
   "execution_count": 103,
   "id": "8f187a7a",
   "metadata": {},
   "outputs": [
    {
     "data": {
      "text/plain": [
       "False"
      ]
     },
     "execution_count": 103,
     "metadata": {},
     "output_type": "execute_result"
    }
   ],
   "source": [
    "x == y"
   ]
  },
  {
   "cell_type": "code",
   "execution_count": 104,
   "id": "d4d1540b",
   "metadata": {},
   "outputs": [],
   "source": [
    "x=y"
   ]
  },
  {
   "cell_type": "code",
   "execution_count": 105,
   "id": "fd3e8956",
   "metadata": {},
   "outputs": [
    {
     "data": {
      "text/plain": [
       "3"
      ]
     },
     "execution_count": 105,
     "metadata": {},
     "output_type": "execute_result"
    }
   ],
   "source": [
    "x"
   ]
  },
  {
   "cell_type": "code",
   "execution_count": 106,
   "id": "bda5475f",
   "metadata": {},
   "outputs": [
    {
     "data": {
      "text/plain": [
       "3"
      ]
     },
     "execution_count": 106,
     "metadata": {},
     "output_type": "execute_result"
    }
   ],
   "source": [
    "y"
   ]
  },
  {
   "cell_type": "code",
   "execution_count": 107,
   "id": "d176f262",
   "metadata": {},
   "outputs": [
    {
     "data": {
      "text/plain": [
       "False"
      ]
     },
     "execution_count": 107,
     "metadata": {},
     "output_type": "execute_result"
    }
   ],
   "source": [
    "3 > 5"
   ]
  },
  {
   "cell_type": "code",
   "execution_count": 108,
   "id": "e8b5c8e9",
   "metadata": {},
   "outputs": [
    {
     "data": {
      "text/plain": [
       "False"
      ]
     },
     "execution_count": 108,
     "metadata": {},
     "output_type": "execute_result"
    }
   ],
   "source": [
    "4>=5"
   ]
  },
  {
   "cell_type": "code",
   "execution_count": 109,
   "id": "56449829",
   "metadata": {},
   "outputs": [
    {
     "data": {
      "text/plain": [
       "True"
      ]
     },
     "execution_count": 109,
     "metadata": {},
     "output_type": "execute_result"
    }
   ],
   "source": [
    "3 != 5"
   ]
  },
  {
   "cell_type": "code",
   "execution_count": 110,
   "id": "23a637ac",
   "metadata": {},
   "outputs": [
    {
     "data": {
      "text/plain": [
       "False"
      ]
     },
     "execution_count": 110,
     "metadata": {},
     "output_type": "execute_result"
    }
   ],
   "source": [
    " 3==5"
   ]
  },
  {
   "cell_type": "code",
   "execution_count": 111,
   "id": "fd2af0ba",
   "metadata": {},
   "outputs": [
    {
     "data": {
      "text/plain": [
       "True"
      ]
     },
     "execution_count": 111,
     "metadata": {},
     "output_type": "execute_result"
    }
   ],
   "source": [
    "1 == True"
   ]
  },
  {
   "cell_type": "code",
   "execution_count": 116,
   "id": "3856618e",
   "metadata": {},
   "outputs": [
    {
     "data": {
      "text/plain": [
       "False"
      ]
     },
     "execution_count": 116,
     "metadata": {},
     "output_type": "execute_result"
    }
   ],
   "source": [
    "5 == True"
   ]
  },
  {
   "cell_type": "code",
   "execution_count": 117,
   "id": "2fbc0bad",
   "metadata": {},
   "outputs": [
    {
     "data": {
      "text/plain": [
       "True"
      ]
     },
     "execution_count": 117,
     "metadata": {},
     "output_type": "execute_result"
    }
   ],
   "source": [
    "bool(5) == True"
   ]
  },
  {
   "cell_type": "code",
   "execution_count": 112,
   "id": "b4e6a51b",
   "metadata": {},
   "outputs": [
    {
     "data": {
      "text/plain": [
       "True"
      ]
     },
     "execution_count": 112,
     "metadata": {},
     "output_type": "execute_result"
    }
   ],
   "source": [
    "0 == False"
   ]
  },
  {
   "cell_type": "code",
   "execution_count": 113,
   "id": "b4f26e3a",
   "metadata": {},
   "outputs": [
    {
     "data": {
      "text/plain": [
       "False"
      ]
     },
     "execution_count": 113,
     "metadata": {},
     "output_type": "execute_result"
    }
   ],
   "source": [
    "# This is strange, don't know why?\n",
    "-1 == True"
   ]
  },
  {
   "cell_type": "code",
   "execution_count": 118,
   "id": "5239738a",
   "metadata": {},
   "outputs": [
    {
     "data": {
      "text/plain": [
       "True"
      ]
     },
     "execution_count": 118,
     "metadata": {},
     "output_type": "execute_result"
    }
   ],
   "source": [
    "bool(-1) == True"
   ]
  },
  {
   "cell_type": "code",
   "execution_count": 114,
   "id": "c5228223",
   "metadata": {},
   "outputs": [
    {
     "data": {
      "text/plain": [
       "False"
      ]
     },
     "execution_count": 114,
     "metadata": {},
     "output_type": "execute_result"
    }
   ],
   "source": [
    "# This is strange, don't know why?\n",
    "-1 == False"
   ]
  },
  {
   "cell_type": "code",
   "execution_count": 115,
   "id": "23e3cb31",
   "metadata": {},
   "outputs": [
    {
     "data": {
      "text/plain": [
       "bool"
      ]
     },
     "execution_count": 115,
     "metadata": {},
     "output_type": "execute_result"
    }
   ],
   "source": [
    "type(-1 == False)"
   ]
  },
  {
   "cell_type": "code",
   "execution_count": 120,
   "id": "070877c7",
   "metadata": {},
   "outputs": [
    {
     "data": {
      "text/plain": [
       "False"
      ]
     },
     "execution_count": 120,
     "metadata": {},
     "output_type": "execute_result"
    }
   ],
   "source": [
    "'A'  > 'a'"
   ]
  },
  {
   "cell_type": "code",
   "execution_count": 121,
   "id": "1581ac05",
   "metadata": {},
   "outputs": [
    {
     "data": {
      "text/plain": [
       "True"
      ]
     },
     "execution_count": 121,
     "metadata": {},
     "output_type": "execute_result"
    }
   ],
   "source": [
    "'a' > 'A'"
   ]
  },
  {
   "cell_type": "code",
   "execution_count": 122,
   "id": "94dd908f",
   "metadata": {},
   "outputs": [
    {
     "data": {
      "text/plain": [
       "False"
      ]
     },
     "execution_count": 122,
     "metadata": {},
     "output_type": "execute_result"
    }
   ],
   "source": [
    "'ca' < 'aa'"
   ]
  },
  {
   "cell_type": "code",
   "execution_count": 123,
   "id": "ecafadcd",
   "metadata": {},
   "outputs": [
    {
     "data": {
      "text/plain": [
       "False"
      ]
     },
     "execution_count": 123,
     "metadata": {},
     "output_type": "execute_result"
    }
   ],
   "source": [
    "'a' == 97\n",
    "# don't know why?"
   ]
  },
  {
   "cell_type": "code",
   "execution_count": 124,
   "id": "81fe349d",
   "metadata": {},
   "outputs": [
    {
     "data": {
      "text/plain": [
       "False"
      ]
     },
     "execution_count": 124,
     "metadata": {},
     "output_type": "execute_result"
    }
   ],
   "source": [
    " a == 10"
   ]
  },
  {
   "cell_type": "code",
   "execution_count": 125,
   "id": "cdd0ca31",
   "metadata": {},
   "outputs": [
    {
     "data": {
      "text/plain": [
       "False"
      ]
     },
     "execution_count": 125,
     "metadata": {},
     "output_type": "execute_result"
    }
   ],
   "source": [
    "'*' > '+'"
   ]
  },
  {
   "cell_type": "markdown",
   "id": "36f78b4b",
   "metadata": {},
   "source": [
    "## 1.8 Python Logical operators"
   ]
  },
  {
   "cell_type": "code",
   "execution_count": null,
   "id": "ac5fc801",
   "metadata": {},
   "outputs": [],
   "source": [
    "# and: returns first false value\n",
    "# or: returns first true values\n",
    "# not: flips boolean values of the operand"
   ]
  },
  {
   "cell_type": "code",
   "execution_count": 126,
   "id": "aa5c6eee",
   "metadata": {},
   "outputs": [
    {
     "ename": "IndentationError",
     "evalue": "unexpected indent (<ipython-input-126-75fb48b310a1>, line 2)",
     "output_type": "error",
     "traceback": [
      "\u001b[0;36m  File \u001b[0;32m\"<ipython-input-126-75fb48b310a1>\"\u001b[0;36m, line \u001b[0;32m2\u001b[0m\n\u001b[0;31m    - True (1 or non  zero)\u001b[0m\n\u001b[0m    ^\u001b[0m\n\u001b[0;31mIndentationError\u001b[0m\u001b[0;31m:\u001b[0m unexpected indent\n"
     ]
    }
   ],
   "source": [
    "# Boolean type has two values:\n",
    " - True (1 or non  zero)\n",
    " - False (0)"
   ]
  },
  {
   "cell_type": "code",
   "execution_count": 127,
   "id": "c2a76e54",
   "metadata": {},
   "outputs": [
    {
     "data": {
      "text/plain": [
       "False"
      ]
     },
     "execution_count": 127,
     "metadata": {},
     "output_type": "execute_result"
    }
   ],
   "source": [
    "False and True and True"
   ]
  },
  {
   "cell_type": "code",
   "execution_count": 128,
   "id": "3ef5b4b0",
   "metadata": {},
   "outputs": [
    {
     "data": {
      "text/plain": [
       "False"
      ]
     },
     "execution_count": 128,
     "metadata": {},
     "output_type": "execute_result"
    }
   ],
   "source": [
    "False and True and False"
   ]
  },
  {
   "cell_type": "code",
   "execution_count": 129,
   "id": "0d0ca25b",
   "metadata": {},
   "outputs": [
    {
     "data": {
      "text/plain": [
       "True"
      ]
     },
     "execution_count": 129,
     "metadata": {},
     "output_type": "execute_result"
    }
   ],
   "source": [
    "True and True and True"
   ]
  },
  {
   "cell_type": "code",
   "execution_count": 130,
   "id": "382b1238",
   "metadata": {},
   "outputs": [
    {
     "data": {
      "text/plain": [
       "False"
      ]
     },
     "execution_count": 130,
     "metadata": {},
     "output_type": "execute_result"
    }
   ],
   "source": [
    "True and True and False"
   ]
  },
  {
   "cell_type": "code",
   "execution_count": 131,
   "id": "36b14e84",
   "metadata": {},
   "outputs": [
    {
     "data": {
      "text/plain": [
       "True"
      ]
     },
     "execution_count": 131,
     "metadata": {},
     "output_type": "execute_result"
    }
   ],
   "source": [
    "False or True"
   ]
  },
  {
   "cell_type": "code",
   "execution_count": 132,
   "id": "50845758",
   "metadata": {},
   "outputs": [
    {
     "data": {
      "text/plain": [
       "False"
      ]
     },
     "execution_count": 132,
     "metadata": {},
     "output_type": "execute_result"
    }
   ],
   "source": [
    "False or False"
   ]
  },
  {
   "cell_type": "code",
   "execution_count": 133,
   "id": "61456997",
   "metadata": {},
   "outputs": [
    {
     "data": {
      "text/plain": [
       "0"
      ]
     },
     "execution_count": 133,
     "metadata": {},
     "output_type": "execute_result"
    }
   ],
   "source": [
    " 5 and 0"
   ]
  },
  {
   "cell_type": "code",
   "execution_count": 134,
   "id": "af008122",
   "metadata": {},
   "outputs": [
    {
     "data": {
      "text/plain": [
       "1"
      ]
     },
     "execution_count": 134,
     "metadata": {},
     "output_type": "execute_result"
    }
   ],
   "source": [
    "1 and 1"
   ]
  },
  {
   "cell_type": "code",
   "execution_count": 135,
   "id": "f3244820",
   "metadata": {},
   "outputs": [
    {
     "data": {
      "text/plain": [
       "0"
      ]
     },
     "execution_count": 135,
     "metadata": {},
     "output_type": "execute_result"
    }
   ],
   "source": [
    "1 and 0"
   ]
  },
  {
   "cell_type": "code",
   "execution_count": 136,
   "id": "b1be2927",
   "metadata": {},
   "outputs": [
    {
     "data": {
      "text/plain": [
       "0"
      ]
     },
     "execution_count": 136,
     "metadata": {},
     "output_type": "execute_result"
    }
   ],
   "source": [
    "0 and 0"
   ]
  },
  {
   "cell_type": "code",
   "execution_count": 137,
   "id": "7fc23192",
   "metadata": {},
   "outputs": [
    {
     "data": {
      "text/plain": [
       "1"
      ]
     },
     "execution_count": 137,
     "metadata": {},
     "output_type": "execute_result"
    }
   ],
   "source": [
    "1 or 0"
   ]
  },
  {
   "cell_type": "code",
   "execution_count": 138,
   "id": "8e3457f7",
   "metadata": {},
   "outputs": [
    {
     "data": {
      "text/plain": [
       "5"
      ]
     },
     "execution_count": 138,
     "metadata": {},
     "output_type": "execute_result"
    }
   ],
   "source": [
    " 5 or 1"
   ]
  },
  {
   "cell_type": "code",
   "execution_count": 139,
   "id": "bd3b450a",
   "metadata": {},
   "outputs": [
    {
     "data": {
      "text/plain": [
       "5"
      ]
     },
     "execution_count": 139,
     "metadata": {},
     "output_type": "execute_result"
    }
   ],
   "source": [
    "-1 and 5"
   ]
  },
  {
   "cell_type": "code",
   "execution_count": 140,
   "id": "c6e1f3a7",
   "metadata": {},
   "outputs": [
    {
     "data": {
      "text/plain": [
       "0"
      ]
     },
     "execution_count": 140,
     "metadata": {},
     "output_type": "execute_result"
    }
   ],
   "source": [
    "0 or 0"
   ]
  },
  {
   "cell_type": "code",
   "execution_count": 141,
   "id": "d1c33dc8",
   "metadata": {},
   "outputs": [
    {
     "data": {
      "text/plain": [
       "False"
      ]
     },
     "execution_count": 141,
     "metadata": {},
     "output_type": "execute_result"
    }
   ],
   "source": [
    "not 1"
   ]
  },
  {
   "cell_type": "code",
   "execution_count": 142,
   "id": "d7555fb7",
   "metadata": {},
   "outputs": [
    {
     "data": {
      "text/plain": [
       "True"
      ]
     },
     "execution_count": 142,
     "metadata": {},
     "output_type": "execute_result"
    }
   ],
   "source": [
    "not 0"
   ]
  },
  {
   "cell_type": "code",
   "execution_count": 143,
   "id": "134b52a1",
   "metadata": {},
   "outputs": [
    {
     "data": {
      "text/plain": [
       "False"
      ]
     },
     "execution_count": 143,
     "metadata": {},
     "output_type": "execute_result"
    }
   ],
   "source": [
    "not 5"
   ]
  },
  {
   "cell_type": "code",
   "execution_count": 144,
   "id": "4f1e2f75",
   "metadata": {},
   "outputs": [
    {
     "data": {
      "text/plain": [
       "False"
      ]
     },
     "execution_count": 144,
     "metadata": {},
     "output_type": "execute_result"
    }
   ],
   "source": [
    "not 'Srikanth'"
   ]
  },
  {
   "cell_type": "code",
   "execution_count": 145,
   "id": "316019d6",
   "metadata": {},
   "outputs": [
    {
     "data": {
      "text/plain": [
       "False"
      ]
     },
     "execution_count": 145,
     "metadata": {},
     "output_type": "execute_result"
    }
   ],
   "source": [
    "not -5"
   ]
  },
  {
   "cell_type": "code",
   "execution_count": 146,
   "id": "19fef1c6",
   "metadata": {},
   "outputs": [
    {
     "data": {
      "text/plain": [
       "False"
      ]
     },
     "execution_count": 146,
     "metadata": {},
     "output_type": "execute_result"
    }
   ],
   "source": [
    "True == 'True'"
   ]
  },
  {
   "cell_type": "code",
   "execution_count": null,
   "id": "44a60e56",
   "metadata": {},
   "outputs": [],
   "source": []
  }
 ],
 "metadata": {
  "kernelspec": {
   "display_name": "Python 3",
   "language": "python",
   "name": "python3"
  },
  "language_info": {
   "codemirror_mode": {
    "name": "ipython",
    "version": 3
   },
   "file_extension": ".py",
   "mimetype": "text/x-python",
   "name": "python",
   "nbconvert_exporter": "python",
   "pygments_lexer": "ipython3",
   "version": "3.6.4"
  }
 },
 "nbformat": 4,
 "nbformat_minor": 5
}
