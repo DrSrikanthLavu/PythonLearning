{
 "cells": [
  {
   "cell_type": "markdown",
   "id": "6b6ce08a",
   "metadata": {},
   "source": [
    "## Variable"
   ]
  },
  {
   "cell_type": "code",
   "execution_count": null,
   "id": "e9c3e18c",
   "metadata": {},
   "outputs": [],
   "source": [
    "A variable is a name that refers to a value.\n",
    "As assignment statement creates new variables and gives them values."
   ]
  },
  {
   "cell_type": "code",
   "execution_count": 1,
   "id": "b4e8396d",
   "metadata": {},
   "outputs": [
    {
     "name": "stdout",
     "output_type": "stream",
     "text": [
      "this is samplw text message\n"
     ]
    }
   ],
   "source": [
    "message = \"this is samplw text message\"\n",
    "print(message)"
   ]
  },
  {
   "cell_type": "code",
   "execution_count": 2,
   "id": "63741bc0",
   "metadata": {},
   "outputs": [
    {
     "name": "stdout",
     "output_type": "stream",
     "text": [
      "2024\n"
     ]
    }
   ],
   "source": [
    "n=2024\n",
    "print(n)"
   ]
  },
  {
   "cell_type": "code",
   "execution_count": 3,
   "id": "7da9985a",
   "metadata": {},
   "outputs": [
    {
     "data": {
      "text/plain": [
       "str"
      ]
     },
     "execution_count": 3,
     "metadata": {},
     "output_type": "execute_result"
    }
   ],
   "source": [
    "#type\n",
    "type(message)"
   ]
  },
  {
   "cell_type": "code",
   "execution_count": 4,
   "id": "204ee2c8",
   "metadata": {},
   "outputs": [
    {
     "data": {
      "text/plain": [
       "int"
      ]
     },
     "execution_count": 4,
     "metadata": {},
     "output_type": "execute_result"
    }
   ],
   "source": [
    "type(n)"
   ]
  },
  {
   "cell_type": "code",
   "execution_count": 5,
   "id": "087b2dbf",
   "metadata": {},
   "outputs": [],
   "source": [
    "n2=10.54"
   ]
  },
  {
   "cell_type": "code",
   "execution_count": 6,
   "id": "51ed1336",
   "metadata": {},
   "outputs": [
    {
     "name": "stdout",
     "output_type": "stream",
     "text": [
      "10.54\n"
     ]
    }
   ],
   "source": [
    "print(n2)"
   ]
  },
  {
   "cell_type": "code",
   "execution_count": 7,
   "id": "29273df9",
   "metadata": {},
   "outputs": [
    {
     "data": {
      "text/plain": [
       "float"
      ]
     },
     "execution_count": 7,
     "metadata": {},
     "output_type": "execute_result"
    }
   ],
   "source": [
    "type(n2)"
   ]
  },
  {
   "cell_type": "markdown",
   "id": "26338dfb",
   "metadata": {},
   "source": [
    "## Python building blocks"
   ]
  },
  {
   "cell_type": "markdown",
   "id": "40e801ec",
   "metadata": {},
   "source": [
    "### Variable names and keywords"
   ]
  },
  {
   "cell_type": "code",
   "execution_count": null,
   "id": "097cd079",
   "metadata": {},
   "outputs": [],
   "source": [
    "Programmers generally choose names for their variables that are \n",
    "meaningful and document what the variable is used for."
   ]
  },
  {
   "cell_type": "code",
   "execution_count": null,
   "id": "a8963c6d",
   "metadata": {},
   "outputs": [],
   "source": [
    "variable naming convention\n",
    "- 1.variable names are case sensitive\n",
    "- 2.variable name can not start with special character except '_'\n",
    "- 3.variable name can not start with number\n",
    "- 4.can not use reserved words/key words"
   ]
  },
  {
   "cell_type": "code",
   "execution_count": 12,
   "id": "9de1fc84",
   "metadata": {},
   "outputs": [
    {
     "name": "stdout",
     "output_type": "stream",
     "text": [
      "sample test\n"
     ]
    }
   ],
   "source": [
    "MessagE1 = \"sample test\"\n",
    "print(MessagE1)"
   ]
  },
  {
   "cell_type": "code",
   "execution_count": 16,
   "id": "11591723",
   "metadata": {},
   "outputs": [
    {
     "ename": "NameError",
     "evalue": "name 'messagE1' is not defined",
     "output_type": "error",
     "traceback": [
      "\u001b[0;31m---------------------------------------------------------------------------\u001b[0m",
      "\u001b[0;31mNameError\u001b[0m                                 Traceback (most recent call last)",
      "\u001b[0;32m<ipython-input-16-6071b67324ad>\u001b[0m in \u001b[0;36m<module>\u001b[0;34m\u001b[0m\n\u001b[0;32m----> 1\u001b[0;31m \u001b[0mprint\u001b[0m\u001b[0;34m(\u001b[0m\u001b[0mmessagE1\u001b[0m\u001b[0;34m)\u001b[0m\u001b[0;34m\u001b[0m\u001b[0m\n\u001b[0m",
      "\u001b[0;31mNameError\u001b[0m: name 'messagE1' is not defined"
     ]
    }
   ],
   "source": [
    "print(messagE1)"
   ]
  },
  {
   "cell_type": "code",
   "execution_count": 17,
   "id": "18c5e64a",
   "metadata": {},
   "outputs": [
    {
     "name": "stdout",
     "output_type": "stream",
     "text": [
      "Sample text 2\n"
     ]
    }
   ],
   "source": [
    "_message2 = \"Sample text 2\"\n",
    "print(_message2)"
   ]
  },
  {
   "cell_type": "code",
   "execution_count": 18,
   "id": "dfd7f350",
   "metadata": {},
   "outputs": [
    {
     "ename": "SyntaxError",
     "evalue": "invalid token (<ipython-input-18-339022530e66>, line 1)",
     "output_type": "error",
     "traceback": [
      "\u001b[0;36m  File \u001b[0;32m\"<ipython-input-18-339022530e66>\"\u001b[0;36m, line \u001b[0;32m1\u001b[0m\n\u001b[0;31m    3_message = \"sample text 3\"\u001b[0m\n\u001b[0m     ^\u001b[0m\n\u001b[0;31mSyntaxError\u001b[0m\u001b[0;31m:\u001b[0m invalid token\n"
     ]
    }
   ],
   "source": [
    "3_message = \"sample text 3\"\n",
    "print(3_message)"
   ]
  },
  {
   "cell_type": "markdown",
   "id": "d533c777",
   "metadata": {},
   "source": [
    "Python has about 35 key words"
   ]
  },
  {
   "cell_type": "code",
   "execution_count": null,
   "id": "2a863b6b",
   "metadata": {},
   "outputs": [],
   "source": [
    "False      await      else       import     pass\n",
    "None       break      except     in         raise\n",
    "True       class      finally    is         return\n",
    "and        continue   for        lambda     try\n",
    "as         def        from       nonlocal   while\n",
    "assert     del        global     not        with\n",
    "async      elif       if         or         yield"
   ]
  },
  {
   "cell_type": "code",
   "execution_count": 19,
   "id": "53fab87a",
   "metadata": {},
   "outputs": [
    {
     "ename": "SyntaxError",
     "evalue": "can't assign to keyword (<ipython-input-19-cd27559deb38>, line 1)",
     "output_type": "error",
     "traceback": [
      "\u001b[0;36m  File \u001b[0;32m\"<ipython-input-19-cd27559deb38>\"\u001b[0;36m, line \u001b[0;32m1\u001b[0m\n\u001b[0;31m    False = \"Sample text 4\"\u001b[0m\n\u001b[0m                           ^\u001b[0m\n\u001b[0;31mSyntaxError\u001b[0m\u001b[0;31m:\u001b[0m can't assign to keyword\n"
     ]
    }
   ],
   "source": [
    "False = \"Sample text 4\""
   ]
  },
  {
   "cell_type": "code",
   "execution_count": 20,
   "id": "df9d17bc",
   "metadata": {},
   "outputs": [
    {
     "ename": "SyntaxError",
     "evalue": "invalid syntax (<ipython-input-20-8dba899ddae1>, line 1)",
     "output_type": "error",
     "traceback": [
      "\u001b[0;36m  File \u001b[0;32m\"<ipython-input-20-8dba899ddae1>\"\u001b[0;36m, line \u001b[0;32m1\u001b[0m\n\u001b[0;31m    class = \"7th Class\"\u001b[0m\n\u001b[0m          ^\u001b[0m\n\u001b[0;31mSyntaxError\u001b[0m\u001b[0;31m:\u001b[0m invalid syntax\n"
     ]
    }
   ],
   "source": [
    "class = \"7th Class\""
   ]
  },
  {
   "cell_type": "code",
   "execution_count": null,
   "id": "4810c9fa",
   "metadata": {},
   "outputs": [],
   "source": [
    "# calculate body mass index BMI . BMI = weight in kgs/squre of (height in meter)"
   ]
  },
  {
   "cell_type": "code",
   "execution_count": 27,
   "id": "74618e2a",
   "metadata": {},
   "outputs": [],
   "source": [
    "#Programmer1 variable naming convention\n",
    "x1 = 80\n",
    "x2 = 1.8\n",
    "x3 = x1/(x2*x2)"
   ]
  },
  {
   "cell_type": "code",
   "execution_count": 28,
   "id": "88725006",
   "metadata": {},
   "outputs": [
    {
     "name": "stdout",
     "output_type": "stream",
     "text": [
      "24.691358024691358\n"
     ]
    }
   ],
   "source": [
    "print(x3)"
   ]
  },
  {
   "cell_type": "code",
   "execution_count": 29,
   "id": "199c2ec3",
   "metadata": {},
   "outputs": [
    {
     "name": "stdout",
     "output_type": "stream",
     "text": [
      "24.691358024691358\n"
     ]
    }
   ],
   "source": [
    "# programmer2 variable naming convention\n",
    "weight_in_kgs = 80\n",
    "height_in_meters = 1.8\n",
    "Body_mass_index = weight_in_kgs/(height_in_meters*height_in_meters)\n",
    "print(Body_mass_index)"
   ]
  },
  {
   "cell_type": "code",
   "execution_count": null,
   "id": "77298df3",
   "metadata": {},
   "outputs": [],
   "source": [
    "#Programmer3 variable naming convention\n",
    "x1 = 80  # give person weight in kgs\n",
    "x2 = 1.8 # person height in meters\n",
    "x3 = x1/(x2*x2) # calculate body mass Index(BMI) using formula weight in kgs/squre of (height in meter)"
   ]
  },
  {
   "cell_type": "markdown",
   "id": "abab0c1a",
   "metadata": {},
   "source": [
    "Programmers should generally choose names for their variables that are meaningful and document what the variables are used for."
   ]
  },
  {
   "cell_type": "markdown",
   "id": "928fef60",
   "metadata": {},
   "source": [
    "## Statements"
   ]
  },
  {
   "cell_type": "code",
   "execution_count": null,
   "id": "ecd1673d",
   "metadata": {},
   "outputs": [],
   "source": [
    "A statement is a unit of code  thaat python interpreter can execute."
   ]
  },
  {
   "cell_type": "code",
   "execution_count": null,
   "id": "24dbab32",
   "metadata": {},
   "outputs": [],
   "source": [
    "A script/program usually contains a sequence of statements.\n",
    "If there is more than one statement, the results appear one at a \n",
    "time as the statements execute."
   ]
  },
  {
   "cell_type": "code",
   "execution_count": 31,
   "id": "5fc481cf",
   "metadata": {},
   "outputs": [
    {
     "name": "stdout",
     "output_type": "stream",
     "text": [
      "2\n",
      "3\n"
     ]
    }
   ],
   "source": [
    "x=2\n",
    "print(x)\n",
    "y=3\n",
    "print(y)"
   ]
  },
  {
   "cell_type": "code",
   "execution_count": null,
   "id": "9d9b3a0a",
   "metadata": {},
   "outputs": [],
   "source": [
    "two kinds of statements: \n",
    "    - print being an expression statement and \n",
    "    - assignment."
   ]
  },
  {
   "cell_type": "markdown",
   "id": "59ae284b",
   "metadata": {},
   "source": [
    "## Expressions"
   ]
  },
  {
   "cell_type": "code",
   "execution_count": null,
   "id": "95b31b02",
   "metadata": {},
   "outputs": [],
   "source": [
    "An expression is a combination of values, variables, and operators."
   ]
  },
  {
   "cell_type": "code",
   "execution_count": null,
   "id": "ad0187f7",
   "metadata": {},
   "outputs": [],
   "source": [
    "17\n",
    "x=5\n",
    "x+17"
   ]
  },
  {
   "cell_type": "markdown",
   "id": "064531a4",
   "metadata": {},
   "source": [
    "## Order of operations (PEMDAS)"
   ]
  },
  {
   "cell_type": "code",
   "execution_count": null,
   "id": "6b8fbabd",
   "metadata": {},
   "outputs": [],
   "source": [
    "When more than one operator appears in an expression, the order of \n",
    "evaluation depends on the rules of precedence."
   ]
  },
  {
   "cell_type": "code",
   "execution_count": null,
   "id": "9243de6b",
   "metadata": {},
   "outputs": [],
   "source": [
    "PEMDAS: Parenthesis, Exponential, Multiplication, Division, addition, subtraction"
   ]
  },
  {
   "cell_type": "code",
   "execution_count": null,
   "id": "dac7c429",
   "metadata": {},
   "outputs": [],
   "source": [
    "1. Parentheses have the highest precedence\n",
    "2. Exponentiation has the next highest precedence\n",
    "3. Multiplication and Division have the same precedence, which is higher\n",
    "than Addition and Subtraction\n",
    "4. Operators with the same precedence are evaluated from left to right\n",
    "\n",
    "Tip: When in doubt, always put parentheses in your expressions to \n",
    "make sure the com- putations are performed in the order you intend."
   ]
  },
  {
   "cell_type": "code",
   "execution_count": null,
   "id": "36bda4d7",
   "metadata": {},
   "outputs": [],
   "source": [
    "x = 2*(4*6*(3*2))\n",
    "\n",
    "-> 2*(4*6*6)\n",
    "->2*(144)\n",
    "-> 288"
   ]
  },
  {
   "cell_type": "code",
   "execution_count": 32,
   "id": "ccdffd85",
   "metadata": {},
   "outputs": [
    {
     "name": "stdout",
     "output_type": "stream",
     "text": [
      "8\n"
     ]
    }
   ],
   "source": [
    "x1 = 2**3 # this is two cube\n",
    "print(x1)"
   ]
  },
  {
   "cell_type": "code",
   "execution_count": 33,
   "id": "2424b316",
   "metadata": {},
   "outputs": [
    {
     "name": "stdout",
     "output_type": "stream",
     "text": [
      "3\n"
     ]
    }
   ],
   "source": [
    "x2 = 3*1**3\n",
    "print(x2)"
   ]
  },
  {
   "cell_type": "code",
   "execution_count": 34,
   "id": "12c212cd",
   "metadata": {},
   "outputs": [
    {
     "name": "stdout",
     "output_type": "stream",
     "text": [
      "5\n"
     ]
    }
   ],
   "source": [
    "x3 = 2*3-1\n",
    "print(x3)"
   ]
  },
  {
   "cell_type": "code",
   "execution_count": 35,
   "id": "80c611d7",
   "metadata": {},
   "outputs": [
    {
     "name": "stdout",
     "output_type": "stream",
     "text": [
      "5\n"
     ]
    }
   ],
   "source": [
    "x4 = (2*3)-1\n",
    "print(x4)"
   ]
  },
  {
   "cell_type": "code",
   "execution_count": 37,
   "id": "0714cd59",
   "metadata": {},
   "outputs": [
    {
     "name": "stdout",
     "output_type": "stream",
     "text": [
      "8.0\n"
     ]
    }
   ],
   "source": [
    "x5 = 6+4/2\n",
    "print(x5)"
   ]
  },
  {
   "cell_type": "code",
   "execution_count": 38,
   "id": "4cb30472",
   "metadata": {},
   "outputs": [
    {
     "name": "stdout",
     "output_type": "stream",
     "text": [
      "8.0\n"
     ]
    }
   ],
   "source": [
    "x6 = 6+(4/2)\n",
    "print(x6)"
   ]
  },
  {
   "cell_type": "code",
   "execution_count": 39,
   "id": "5cd7fa25",
   "metadata": {},
   "outputs": [
    {
     "name": "stdout",
     "output_type": "stream",
     "text": [
      "1\n"
     ]
    }
   ],
   "source": [
    "#Operators with the same precedence are evaluated from left to right.\n",
    "x7 = 5-3-1 # 1 or 3\n",
    "print(x7)"
   ]
  },
  {
   "cell_type": "code",
   "execution_count": 40,
   "id": "648176f9",
   "metadata": {},
   "outputs": [
    {
     "name": "stdout",
     "output_type": "stream",
     "text": [
      "1\n"
     ]
    }
   ],
   "source": [
    "x8 = (5-3)-1\n",
    "print(x8)"
   ]
  },
  {
   "cell_type": "markdown",
   "id": "2a6dcef6",
   "metadata": {},
   "source": [
    "## String Operations"
   ]
  },
  {
   "cell_type": "code",
   "execution_count": 41,
   "id": "364b364b",
   "metadata": {},
   "outputs": [
    {
     "name": "stdout",
     "output_type": "stream",
     "text": [
      "1\n"
     ]
    }
   ],
   "source": [
    "print(x8)"
   ]
  },
  {
   "cell_type": "code",
   "execution_count": 42,
   "id": "f3377f20",
   "metadata": {},
   "outputs": [
    {
     "name": "stdout",
     "output_type": "stream",
     "text": [
      "x8\n"
     ]
    }
   ],
   "source": [
    "print('x8')"
   ]
  },
  {
   "cell_type": "code",
   "execution_count": null,
   "id": "0c7cdbbe",
   "metadata": {},
   "outputs": [],
   "source": [
    "The + operator works with strings, but it is not addition in \n",
    "the mathematical sense. Instead it performs concatenation,\n",
    "which means joining the strings by linking them end to end."
   ]
  },
  {
   "cell_type": "code",
   "execution_count": 44,
   "id": "efc77556",
   "metadata": {},
   "outputs": [
    {
     "name": "stdout",
     "output_type": "stream",
     "text": [
      "25\n"
     ]
    }
   ],
   "source": [
    "first = 10\n",
    "second = 15\n",
    "print(first+second)"
   ]
  },
  {
   "cell_type": "code",
   "execution_count": 45,
   "id": "52ed3ac6",
   "metadata": {},
   "outputs": [
    {
     "name": "stdout",
     "output_type": "stream",
     "text": [
      "1015\n"
     ]
    }
   ],
   "source": [
    "first = '10'\n",
    "second = '15'\n",
    "print(first+second)"
   ]
  },
  {
   "cell_type": "code",
   "execution_count": 47,
   "id": "e6bebc81",
   "metadata": {},
   "outputs": [
    {
     "name": "stdout",
     "output_type": "stream",
     "text": [
      "Srikanth Lavu\n"
     ]
    }
   ],
   "source": [
    "first_name = 'Srikanth'\n",
    "second_name = 'Lavu'\n",
    "print(first_name+' '+second_name)"
   ]
  },
  {
   "cell_type": "code",
   "execution_count": 48,
   "id": "02a12be1",
   "metadata": {},
   "outputs": [
    {
     "name": "stdout",
     "output_type": "stream",
     "text": [
      "SrikanthSrikanthSrikanth\n"
     ]
    }
   ],
   "source": [
    "print(first_name*3)"
   ]
  },
  {
   "cell_type": "markdown",
   "id": "362e5d1b",
   "metadata": {},
   "source": [
    "## Asking the user for input"
   ]
  },
  {
   "cell_type": "code",
   "execution_count": 49,
   "id": "7cfab878",
   "metadata": {},
   "outputs": [
    {
     "name": "stdout",
     "output_type": "stream",
     "text": [
      "This is a sample input\n"
     ]
    }
   ],
   "source": [
    "variable_name = input()"
   ]
  },
  {
   "cell_type": "code",
   "execution_count": 50,
   "id": "652c285b",
   "metadata": {},
   "outputs": [
    {
     "name": "stdout",
     "output_type": "stream",
     "text": [
      "This is a sample input\n"
     ]
    }
   ],
   "source": [
    "print(variable_name)"
   ]
  },
  {
   "cell_type": "code",
   "execution_count": 51,
   "id": "fdd00bd0",
   "metadata": {},
   "outputs": [
    {
     "name": "stdout",
     "output_type": "stream",
     "text": [
      "What is your name?Srikanth\n"
     ]
    }
   ],
   "source": [
    "name = input('What is your name?')"
   ]
  },
  {
   "cell_type": "code",
   "execution_count": 52,
   "id": "59537b11",
   "metadata": {},
   "outputs": [
    {
     "name": "stdout",
     "output_type": "stream",
     "text": [
      "Srikanth\n"
     ]
    }
   ],
   "source": [
    "print(name)"
   ]
  },
  {
   "cell_type": "code",
   "execution_count": 53,
   "id": "cf554423",
   "metadata": {},
   "outputs": [
    {
     "name": "stdout",
     "output_type": "stream",
     "text": [
      "What is your name? \n",
      "Srikanth Lavu\n"
     ]
    }
   ],
   "source": [
    "name = input('What is your name? \\n')"
   ]
  },
  {
   "cell_type": "code",
   "execution_count": 54,
   "id": "d34ca961",
   "metadata": {},
   "outputs": [
    {
     "name": "stdout",
     "output_type": "stream",
     "text": [
      "Srikanth Lavu\n"
     ]
    }
   ],
   "source": [
    "print(name)"
   ]
  },
  {
   "cell_type": "code",
   "execution_count": 55,
   "id": "ed8016ea",
   "metadata": {},
   "outputs": [
    {
     "name": "stdout",
     "output_type": "stream",
     "text": [
      "What is your weight in Kgs? \n",
      "78\n",
      "What is your height in meters? \n",
      "1.8\n",
      "24.074074074074073\n"
     ]
    }
   ],
   "source": [
    "weight_in_kgs = input('What is your weight in Kgs? \\n')\n",
    "height_in_meters = input('What is your height in meters? \\n')\n",
    "Body_Mass_Index = float(weight_in_kgs)/float(height_in_meters)**2\n",
    "print(\"Body Mass Index is \", Body_Mass_Index)"
   ]
  },
  {
   "cell_type": "code",
   "execution_count": 56,
   "id": "65c31a83",
   "metadata": {},
   "outputs": [
    {
     "name": "stdout",
     "output_type": "stream",
     "text": [
      "Body Mass Index is  24.074074074074073\n"
     ]
    }
   ],
   "source": [
    "print(\"Body Mass Index is \", Body_Mass_Index)"
   ]
  },
  {
   "cell_type": "code",
   "execution_count": 57,
   "id": "4a2df20d",
   "metadata": {},
   "outputs": [
    {
     "data": {
      "text/plain": [
       "str"
      ]
     },
     "execution_count": 57,
     "metadata": {},
     "output_type": "execute_result"
    }
   ],
   "source": [
    "type(weight_in_kgs)"
   ]
  },
  {
   "cell_type": "markdown",
   "id": "850e6cc1",
   "metadata": {},
   "source": [
    "## Comments"
   ]
  },
  {
   "cell_type": "code",
   "execution_count": null,
   "id": "c9aa635f",
   "metadata": {},
   "outputs": [],
   "source": [
    "As programs get bigger and more complicated, they get more difficult\n",
    "to read.\n",
    "For this reason, it is a good idea to add notes to your programs to \n",
    "explain in natural language what the program is doing.\n",
    "These notes are called comments, and in Python they start with the \n",
    "# symbol:"
   ]
  },
  {
   "cell_type": "markdown",
   "id": "c4831b42",
   "metadata": {},
   "source": [
    "# Chapter 3 Conditional Execution"
   ]
  },
  {
   "cell_type": "markdown",
   "id": "bc5164d3",
   "metadata": {},
   "source": [
    "## Boolean expression"
   ]
  },
  {
   "cell_type": "code",
   "execution_count": null,
   "id": "9dd2508c",
   "metadata": {},
   "outputs": [],
   "source": [
    "A boolean expression is an expression that is either true or false."
   ]
  },
  {
   "cell_type": "code",
   "execution_count": 60,
   "id": "479d2bde",
   "metadata": {},
   "outputs": [
    {
     "data": {
      "text/plain": [
       "True"
      ]
     },
     "execution_count": 60,
     "metadata": {},
     "output_type": "execute_result"
    }
   ],
   "source": [
    " 5 == 5"
   ]
  },
  {
   "cell_type": "code",
   "execution_count": 61,
   "id": "1cb1b5a5",
   "metadata": {},
   "outputs": [
    {
     "data": {
      "text/plain": [
       "False"
      ]
     },
     "execution_count": 61,
     "metadata": {},
     "output_type": "execute_result"
    }
   ],
   "source": [
    "5 == 6"
   ]
  },
  {
   "cell_type": "code",
   "execution_count": null,
   "id": "2e4e144b",
   "metadata": {},
   "outputs": [],
   "source": [
    "True and False are special values that belong to the class bool; \n",
    "they are not strings"
   ]
  },
  {
   "cell_type": "code",
   "execution_count": 62,
   "id": "7628c926",
   "metadata": {},
   "outputs": [
    {
     "data": {
      "text/plain": [
       "bool"
      ]
     },
     "execution_count": 62,
     "metadata": {},
     "output_type": "execute_result"
    }
   ],
   "source": [
    "type(True)"
   ]
  },
  {
   "cell_type": "code",
   "execution_count": 63,
   "id": "3283080a",
   "metadata": {},
   "outputs": [
    {
     "data": {
      "text/plain": [
       "bool"
      ]
     },
     "execution_count": 63,
     "metadata": {},
     "output_type": "execute_result"
    }
   ],
   "source": [
    "type(False)"
   ]
  },
  {
   "cell_type": "code",
   "execution_count": null,
   "id": "7f71cc69",
   "metadata": {},
   "outputs": [],
   "source": [
    "The == operator is one of the comparison operators;\n",
    "the others are:\n",
    "x!=y   #x is not equaltoy\n",
    "x>y    # x is greater than y\n",
    "x<y    #x is less than y\n",
    "x>=y   # x is greater than or equal to y \n",
    "x<=y   #xis less than or equal to y \n",
    "x is y  #x is the same as y\n",
    "x is not y # x is not the same as y\n",
    "\n",
    "the Python symbols are different from the mathematical symbols \n",
    "for the same operations."
   ]
  },
  {
   "cell_type": "markdown",
   "id": "95dca3ec",
   "metadata": {},
   "source": [
    "## 3.2 Logical Operators"
   ]
  },
  {
   "cell_type": "code",
   "execution_count": null,
   "id": "a8ea195a",
   "metadata": {},
   "outputs": [],
   "source": [
    "There are three logical operators: and, or, and not."
   ]
  },
  {
   "cell_type": "code",
   "execution_count": 64,
   "id": "bffee68f",
   "metadata": {},
   "outputs": [],
   "source": [
    "x = 5"
   ]
  },
  {
   "cell_type": "code",
   "execution_count": 65,
   "id": "4b782275",
   "metadata": {},
   "outputs": [
    {
     "data": {
      "text/plain": [
       "True"
      ]
     },
     "execution_count": 65,
     "metadata": {},
     "output_type": "execute_result"
    }
   ],
   "source": [
    "x > 0 and x<10"
   ]
  },
  {
   "cell_type": "code",
   "execution_count": 66,
   "id": "439f58bb",
   "metadata": {},
   "outputs": [
    {
     "data": {
      "text/plain": [
       "False"
      ]
     },
     "execution_count": 66,
     "metadata": {},
     "output_type": "execute_result"
    }
   ],
   "source": [
    "# if the number is divisible by 2 or 3.\n",
    "x%2 == 0 or x%3 == 0"
   ]
  },
  {
   "cell_type": "code",
   "execution_count": 67,
   "id": "56b2b7a0",
   "metadata": {},
   "outputs": [
    {
     "data": {
      "text/plain": [
       "True"
      ]
     },
     "execution_count": 67,
     "metadata": {},
     "output_type": "execute_result"
    }
   ],
   "source": [
    "x=12\n",
    "x%2 == 0 or x%3 == 0"
   ]
  },
  {
   "cell_type": "markdown",
   "id": "cf7da3f0",
   "metadata": {},
   "source": [
    "## 3.3 Conditional execution"
   ]
  },
  {
   "cell_type": "code",
   "execution_count": null,
   "id": "8daa06fd",
   "metadata": {},
   "outputs": [],
   "source": [
    "execute if the condition is met/true"
   ]
  },
  {
   "cell_type": "code",
   "execution_count": null,
   "id": "ba817e65",
   "metadata": {},
   "outputs": [],
   "source": [
    "we almost always need the ability to check conditions \n",
    "and change the behavior of the program accordingly."
   ]
  },
  {
   "cell_type": "code",
   "execution_count": null,
   "id": "e0f3bdf9",
   "metadata": {},
   "outputs": [],
   "source": [
    "#format of conditional execution in python\n",
    "if your_expression:\n",
    "    list of statements"
   ]
  },
  {
   "cell_type": "code",
   "execution_count": 69,
   "id": "9da7c29d",
   "metadata": {},
   "outputs": [
    {
     "name": "stdout",
     "output_type": "stream",
     "text": [
      "x is positive\n"
     ]
    }
   ],
   "source": [
    "if x > 0 :\n",
    "    print('x is positive')"
   ]
  },
  {
   "cell_type": "code",
   "execution_count": 70,
   "id": "58d72b67",
   "metadata": {},
   "outputs": [],
   "source": [
    "x = 0\n",
    "if x > 0 :\n",
    "    print('x is positive')"
   ]
  },
  {
   "cell_type": "code",
   "execution_count": 72,
   "id": "bfcb2156",
   "metadata": {},
   "outputs": [],
   "source": [
    "age = -20\n",
    "if age < 0:\n",
    "    pass"
   ]
  },
  {
   "cell_type": "code",
   "execution_count": 71,
   "id": "b69b3bfb",
   "metadata": {},
   "outputs": [
    {
     "name": "stdout",
     "output_type": "stream",
     "text": [
      " Enter some positive meaningful age\n"
     ]
    }
   ],
   "source": [
    "age = -1\n",
    "if age < 0:\n",
    "    print(\" Enter some positive meaningful age!\")"
   ]
  },
  {
   "cell_type": "markdown",
   "id": "731475ea",
   "metadata": {},
   "source": [
    "## 3.4 Alternative execution"
   ]
  },
  {
   "cell_type": "code",
   "execution_count": 73,
   "id": "0c43e25a",
   "metadata": {},
   "outputs": [],
   "source": [
    "# write a program to print whether the input number is even or odd"
   ]
  },
  {
   "cell_type": "code",
   "execution_count": 74,
   "id": "7d63c58c",
   "metadata": {},
   "outputs": [
    {
     "name": "stdout",
     "output_type": "stream",
     "text": [
      "Enter a positive integer \n",
      "11\n"
     ]
    },
    {
     "ename": "TypeError",
     "evalue": "not all arguments converted during string formatting",
     "output_type": "error",
     "traceback": [
      "\u001b[0;31m---------------------------------------------------------------------------\u001b[0m",
      "\u001b[0;31mTypeError\u001b[0m                                 Traceback (most recent call last)",
      "\u001b[0;32m<ipython-input-74-d161a40f82d3>\u001b[0m in \u001b[0;36m<module>\u001b[0;34m\u001b[0m\n\u001b[1;32m      1\u001b[0m \u001b[0;31m#ask user to enter a positive integer\u001b[0m\u001b[0;34m\u001b[0m\u001b[0;34m\u001b[0m\u001b[0m\n\u001b[1;32m      2\u001b[0m \u001b[0mnumber\u001b[0m \u001b[0;34m=\u001b[0m \u001b[0minput\u001b[0m\u001b[0;34m(\u001b[0m\u001b[0;34m\"Enter a positive integer \\n\"\u001b[0m\u001b[0;34m)\u001b[0m\u001b[0;34m\u001b[0m\u001b[0m\n\u001b[0;32m----> 3\u001b[0;31m \u001b[0;32mif\u001b[0m \u001b[0;34m(\u001b[0m\u001b[0mnumber\u001b[0m\u001b[0;34m%\u001b[0m\u001b[0;36m2\u001b[0m \u001b[0;34m==\u001b[0m \u001b[0;36m0\u001b[0m\u001b[0;34m)\u001b[0m\u001b[0;34m:\u001b[0m\u001b[0;34m\u001b[0m\u001b[0m\n\u001b[0m\u001b[1;32m      4\u001b[0m     \u001b[0mprint\u001b[0m\u001b[0;34m(\u001b[0m\u001b[0;34m\"Gicven number is even\"\u001b[0m\u001b[0;34m)\u001b[0m\u001b[0;34m\u001b[0m\u001b[0m\n\u001b[1;32m      5\u001b[0m \u001b[0;32melse\u001b[0m \u001b[0;34m:\u001b[0m\u001b[0;34m\u001b[0m\u001b[0m\n",
      "\u001b[0;31mTypeError\u001b[0m: not all arguments converted during string formatting"
     ]
    }
   ],
   "source": [
    "#ask user to enter a positive integer\n",
    "number = input(\"Enter a positive integer \\n\")\n",
    "if (number%2 == 0):\n",
    "    print(\"Gicven number is even\")\n",
    "else :\n",
    "    print(\"Given number is odd\")"
   ]
  },
  {
   "cell_type": "code",
   "execution_count": 75,
   "id": "35a62ed6",
   "metadata": {},
   "outputs": [
    {
     "data": {
      "text/plain": [
       "str"
      ]
     },
     "execution_count": 75,
     "metadata": {},
     "output_type": "execute_result"
    }
   ],
   "source": [
    "type(number)"
   ]
  },
  {
   "cell_type": "code",
   "execution_count": 76,
   "id": "67ecec0a",
   "metadata": {},
   "outputs": [
    {
     "name": "stdout",
     "output_type": "stream",
     "text": [
      "Enter a positive integer \n",
      "11\n",
      "Given number is odd\n"
     ]
    }
   ],
   "source": [
    "#ask user to enter a positive integer\n",
    "number = input(\"Enter a positive integer \\n\")\n",
    "if (int(number)%2 == 0):\n",
    "    print(\"Given number is even\")\n",
    "else :\n",
    "    print(\"Given number is odd\")"
   ]
  },
  {
   "cell_type": "markdown",
   "id": "419c6260",
   "metadata": {},
   "source": [
    "## 3.5 Chained Conditionals"
   ]
  },
  {
   "cell_type": "code",
   "execution_count": null,
   "id": "10690656",
   "metadata": {},
   "outputs": [],
   "source": [
    "# take two numbers x and y and print whether \n",
    "- x is less than y\n",
    "- x is greater than y\n",
    "- x is equal to y"
   ]
  },
  {
   "cell_type": "code",
   "execution_count": 77,
   "id": "89bf4bd7",
   "metadata": {},
   "outputs": [
    {
     "name": "stdout",
     "output_type": "stream",
     "text": [
      "enter x value \n",
      "12.05\n",
      "enter y value \n",
      "12.054\n",
      " x and y are not equal\n"
     ]
    }
   ],
   "source": [
    "# input x value\n",
    "x = input(\"enter x value \\n\")\n",
    "y = input(\"enter y value \\n\")\n",
    "\n",
    "x1 = float(x) #covert x into number\n",
    "y1 = float(y) #covert y into number\n",
    "\n",
    "#logic to compare and x and y\n",
    "if x1 == y1:\n",
    "    print(\" x and y are equal\")\n",
    "else:\n",
    "    print(\" x and y are not equal\")"
   ]
  },
  {
   "cell_type": "code",
   "execution_count": 78,
   "id": "cd987bc3",
   "metadata": {},
   "outputs": [
    {
     "name": "stdout",
     "output_type": "stream",
     "text": [
      "enter x value \n",
      "-2\n",
      "enter y value \n",
      "0\n",
      "x is less than y\n"
     ]
    }
   ],
   "source": [
    "#logic to compare and x and y\n",
    "x = input(\"enter x value \\n\")\n",
    "y = input(\"enter y value \\n\")\n",
    "\n",
    "x1 = float(x) #covert x into number\n",
    "y1 = float(y) #covert y into number\n",
    "if x1 == y1:\n",
    "    print(\" x and y are equal\")\n",
    "elif x1 > y1:\n",
    "    print(\" x is greater than y\")\n",
    "else:\n",
    "    print(\"x is less than y\")"
   ]
  },
  {
   "cell_type": "markdown",
   "id": "ca39d56a",
   "metadata": {},
   "source": [
    "## 3.6 Nested Conditionals"
   ]
  },
  {
   "cell_type": "code",
   "execution_count": null,
   "id": "e34aff88",
   "metadata": {},
   "outputs": [],
   "source": [
    "One conditional can also be nested within another."
   ]
  },
  {
   "cell_type": "code",
   "execution_count": 79,
   "id": "c1ae7d90",
   "metadata": {},
   "outputs": [
    {
     "name": "stdout",
     "output_type": "stream",
     "text": [
      "enter x value \n",
      "-2\n",
      "enter y value \n",
      "0\n",
      "x is less than y\n"
     ]
    }
   ],
   "source": [
    "#logic to compare and x and y\n",
    "x = input(\"enter x value \\n\")\n",
    "y = input(\"enter y value \\n\")\n",
    "\n",
    "x1 = float(x) #covert x into number\n",
    "y1 = float(y) #covert y into number\n",
    "if x1 == y1:\n",
    "    print(\" x and y are equal\")\n",
    "else:\n",
    "    if x1 > y1:\n",
    "        print(\" x is greater than y\")\n",
    "    else:\n",
    "        print(\"x is less than y\")"
   ]
  },
  {
   "cell_type": "markdown",
   "id": "d95adffa",
   "metadata": {},
   "source": [
    "## 3.7 Catching exceptions using try and except"
   ]
  },
  {
   "cell_type": "code",
   "execution_count": null,
   "id": "d5eb2e9c",
   "metadata": {},
   "outputs": [],
   "source": [
    "will discuss in next session"
   ]
  },
  {
   "cell_type": "markdown",
   "id": "2b67858e",
   "metadata": {},
   "source": [
    "## 3.8"
   ]
  },
  {
   "cell_type": "code",
   "execution_count": null,
   "id": "83572627",
   "metadata": {},
   "outputs": [],
   "source": []
  }
 ],
 "metadata": {
  "kernelspec": {
   "display_name": "Python 3",
   "language": "python",
   "name": "python3"
  },
  "language_info": {
   "codemirror_mode": {
    "name": "ipython",
    "version": 3
   },
   "file_extension": ".py",
   "mimetype": "text/x-python",
   "name": "python",
   "nbconvert_exporter": "python",
   "pygments_lexer": "ipython3",
   "version": "3.6.4"
  }
 },
 "nbformat": 4,
 "nbformat_minor": 5
}
